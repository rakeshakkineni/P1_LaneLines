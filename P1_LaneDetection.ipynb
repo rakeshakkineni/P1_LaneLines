{
 "cells": [
  {
   "cell_type": "markdown",
   "metadata": {},
   "source": [
    "# Project: Finding Lane Lines on the Road\n",
    "In this project, a pipeline was created to identify lane lines on the road. Code was developed in following stages \n",
    "\n",
    "    > Identify lane lines from provided test images\n",
    "    > Identify lane lines in a video stream, videos solidWhiteRight.mp4 and solidYellowLeft.mp4 were used for\n",
    "    validating the performance of the code.\n",
    "    > Finally code was tested on challenge.mp4\n",
    "\n",
    "For implementing this project some of the helper functions were used and a few new functions were also written. In the following paragraphs detail the code and implementation"
   ]
  },
  {
   "cell_type": "code",
   "execution_count": 1,
   "metadata": {
    "collapsed": true
   },
   "outputs": [],
   "source": [
    "#importing some useful packages\n",
    "import matplotlib.pyplot as plt\n",
    "import matplotlib.image as mpimg\n",
    "import numpy as np\n",
    "import cv2"
   ]
  },
  {
   "cell_type": "markdown",
   "metadata": {},
   "source": [
    "## Helper Functions\n",
    "\n",
    "Below are some helper functions that were used for implementing this project\n"
   ]
  },
  {
   "cell_type": "code",
   "execution_count": 2,
   "metadata": {
    "collapsed": true
   },
   "outputs": [],
   "source": [
    "def grayscale(img):\n",
    "    \"\"\"Applies the Grayscale transform\n",
    "    This will return an image with only one color channel\n",
    "    but NOTE: to see the returned image as grayscale\n",
    "    (assuming your grayscaled image is called 'gray')\n",
    "    you should call plt.imshow(gray, cmap='gray')\"\"\"\n",
    "    return cv2.cvtColor(img, cv2.COLOR_BGR2GRAY)\n",
    "    # Or use BGR2GRAY if you read an image with cv2.imread()\n",
    "    # return cv2.cvtColor(img, cv2.COLOR_BGR2GRAY)\n",
    "    \n",
    "def grayscale(img):\n",
    "    \"\"\"Applies the Grayscale transform\n",
    "    This will return an image with only one color channel\n",
    "    but NOTE: to see the returned image as grayscale\n",
    "    (assuming your grayscaled image is called 'gray')\n",
    "    you should call plt.imshow(gray, cmap='gray')\"\"\"\n",
    "    return cv2.cvtColor(img, cv2.COLOR_BGR2GRAY)\n",
    "    # Or use BGR2GRAY if you read an image with cv2.imread()\n",
    "    # return cv2.cvtColor(img, cv2.COLOR_BGR2GRAY)\n",
    "    \n",
    "def canny(img, low_threshold, high_threshold):\n",
    "    \"\"\"Applies the Canny transform\"\"\"\n",
    "    return cv2.Canny(img, low_threshold, high_threshold)\n",
    "\n",
    "def gaussian_blur(img, kernel_size):\n",
    "    \"\"\"Applies a Gaussian Noise kernel\"\"\"\n",
    "    return cv2.GaussianBlur(img, (kernel_size, kernel_size), 0)\n",
    "\n",
    "def region_of_interest(img, vertices):\n",
    "    \"\"\"\n",
    "    Applies an image mask.\n",
    "    \n",
    "    Only keeps the region of the image defined by the polygon\n",
    "    formed from `vertices`. The rest of the image is set to black.\n",
    "    \"\"\"\n",
    "    #defining a blank mask to start with\n",
    "    mask = np.zeros_like(img)   \n",
    "    \n",
    "    #defining a 3 channel or 1 channel color to fill the mask with depending on the input image\n",
    "    if len(img.shape) > 2:\n",
    "        channel_count = img.shape[2]  # i.e. 3 or 4 depending on your image\n",
    "        ignore_mask_color = (255,) * channel_count\n",
    "    else:\n",
    "        ignore_mask_color = 255\n",
    "        \n",
    "    #filling pixels inside the polygon defined by \"vertices\" with the fill color    \n",
    "    cv2.fillPoly(mask, vertices, ignore_mask_color)\n",
    "    \n",
    "    #returning the image only where mask pixels are nonzero\n",
    "    masked_image = cv2.bitwise_and(img, mask)\n",
    "    return masked_image\n",
    "\n",
    "def weighted_img(img, initial_img, α=0.8, β=1., λ=0.):\n",
    "    \"\"\"\n",
    "    `img` is the output of the hough_lines(), An image with lines drawn on it.\n",
    "    Should be a blank image (all black) with lines drawn on it.\n",
    "    \n",
    "    `initial_img` should be the image before any processing.\n",
    "    \n",
    "    The result image is computed as follows:\n",
    "    \n",
    "    initial_img * α + img * β + λ\n",
    "    NOTE: initial_img and img must be the same shape!\n",
    "    \"\"\"\n",
    "    return cv2.addWeighted(initial_img, α, img, β, λ)"
   ]
  },
  {
   "cell_type": "markdown",
   "metadata": {},
   "source": [
    "## Lane Lines detection in Test Images \n",
    "Following  code shall identify the lanes in the images.\n",
    "\n",
    "## Additional Helper Function\n",
    "Following list of functions were added"
   ]
  },
  {
   "cell_type": "code",
   "execution_count": 3,
   "metadata": {
    "collapsed": true
   },
   "outputs": [],
   "source": [
    "def find_line_param(line_xy):\n",
    "    \"\"\"\n",
    "    This function shall get right lane / left lane start and end points.\n",
    "    From the start and points slope and constant of the line that fits the two points is calculated\n",
    "\n",
    "    Arguments: line_xy --> (startpoint_x, startpoint_y, endpoint_x, endpoint_y)\n",
    "\n",
    "    Result: slope and constant\n",
    "    \"\"\"\n",
    "    # (y2-y1)/(x2-x1)\n",
    "    slope = (np.int32(np.array(line_xy)[1])-np.int32(np.array(line_xy)[3]))/\\\n",
    "            (np.int32(np.array(line_xy)[0])-np.int32(np.array(line_xy)[2]))\n",
    "    # c =  y-mx\n",
    "    constant = np.int32(np.array(line_xy)[1])- slope* np.int32(np.array(line_xy)[0])\n",
    "\n",
    "    return slope,constant\n",
    "\n",
    "def identify_left_right_lines(inp_lines=[0,0,0,0]):\n",
    "    \"\"\"\n",
    "    This function shall saperate out the coordinates that correspond to right and left lanes.\n",
    "    Saperation is done using the fact that a right lane has +ve slope and left has -ve slope.\n",
    "    This function shall also try to remove horizontal lines if any present.\n",
    "\n",
    "    Arguments: input_lines = HoughLinesP output\n",
    "    Result: right_local and left_local lists, they have coordinates of right and left lanes\n",
    "    \n",
    "    \"\"\"\n",
    "    # Buffers to hold the coordinates\n",
    "    right_local = []\n",
    "    left_local = []\n",
    "\n",
    "    # Loop through the input lines by extracting one line at a time \n",
    "    for line in inp_lines:\n",
    "        for x1,y1,x2,y2 in line:\n",
    "            # Check if there are any horizontal lines , horizontal lines would have identical y coordinates\n",
    "            if (abs(y1-y2)>30):\n",
    "                # Check if x1 = x2  to avoid inifinite slope\n",
    "                if(x2 is not x1):\n",
    "                    slope=(y2-y1)/(x2-x1)\n",
    "                else:\n",
    "                    slope=(y2-y1)\n",
    "                \n",
    "                if slope >0:\n",
    "                    # +ve Slope means right lane , append the respective buffer.\n",
    "                    right_local.append((x1,y1))\n",
    "                    right_local.append((x2,y2))\n",
    "                else:\n",
    "                    # -ve Slope means left lane , append the respective buffer.\n",
    "                    left_local.append((x1,y1))\n",
    "                    left_local.append((x2,y2))\n",
    "                \n",
    "        slope =0\n",
    "\n",
    "    return (right_local,left_local)\n",
    "    \n",
    "\n",
    "def draw_lines(img, lines, dim, color=[255, 0, 0], thickness=10):\n",
    "    \"\"\"\n",
    "    This function shall draw lane lines on the gray image by using HoughLinesP output.\n",
    "    Since HoughLinesP output is not continuos for each Lane (Left Lane , Right Lane) a\n",
    "    line is fitted by calculating the slope and constants using the HoughLinesP output\n",
    "\n",
    "    Arguments:\n",
    "    img = grayscale image with only region of interest image\n",
    "    lines = HoughLinesP output\n",
    "    dim = region of interest coordinates\n",
    "    color = color of the line\n",
    "    thickness = thickness of the line\n",
    "    \n",
    "    Result:\n",
    "    line_img = input image + red lane lines    \n",
    "    \"\"\"\n",
    "    # Buffers to hold X,Y coordinates of Right and Left lanes \n",
    "    right_xy = []\n",
    "    left_xy = []\n",
    "    \n",
    "    # Blank Image for drawing the lines\n",
    "    line_img = np.zeros((img.shape[0], img.shape[1], 3), dtype=np.uint8)\n",
    "\n",
    "    # Pass input lines to 'identify_left_right_lines' to saperate out left and right lines\n",
    "    right_xy,left_xy = identify_left_right_lines(lines)\n",
    "    \n",
    "    \"\"\"\n",
    "    Left Lane: Find the slope and constant from the saperated line coordinates\n",
    "    For the left lane\n",
    "         Bottom Point: has minimum x value and maximum y value (y axis is 0 on top)\n",
    "         Top Point: has maximum x value and min y value (y axis is 0 on top)\n",
    "    \"\"\"\n",
    "    slope,constant = find_line_param([min(np.array(left_xy)[:,0]), max(np.array(left_xy)[:,1]),\\\n",
    "                                      max(np.array(left_xy)[:,0]), min(np.array(left_xy)[:,1])])\n",
    "\n",
    "    #calculate bottom x (x1) and top x (x2) coordinates x = (y-constant)/slope use the y-coordinates of the region of interest\n",
    "    # and draw a line in between resultant x1,y1 and x2,y2\n",
    "    exp_x1 = np.int32((dim[0][0][1]-constant)/slope)\n",
    "    exp_x2 = np.int32((dim[0][2][1]-constant)/slope)\n",
    "    cv2.line(line_img, (exp_x1, dim[0][0][1]),(exp_x2, dim[0][2][1]),color, thickness)\n",
    "\n",
    "    \"\"\"\n",
    "    Right Lane: Find the slope and constant from the saperated line coordinates\n",
    "    For the Right lane\n",
    "         Bottom Point: has maximum x value and maximum y value (y axis is 0 on top)\n",
    "         Top Point: has minimum x value and minimum y value (y axis is 0 on top)\n",
    "    \"\"\"\n",
    "\n",
    "    slope,constant = find_line_param([max(np.array(right_xy)[:,0]), max(np.array(right_xy)[:,1]),\\\n",
    "                                      min(np.array(right_xy)[:,0]), min(np.array(right_xy)[:,1])])\n",
    "\n",
    "    #calculate bottom x (x1) and top x (x2) coordinates x = (y-constant)/slope use the y-coordinates of the region of interest\n",
    "    #and draw a line in between resultant x1,y1 and x2,y2\n",
    "    exp_x1 = np.int32((dim[0][0][1]-constant)/slope)\n",
    "    exp_x2 = np.int32((dim[0][2][1]-constant)/slope)\n",
    "    cv2.line(line_img, (exp_x1, dim[0][0][1]),(exp_x2, dim[0][2][1]), color, thickness)\n",
    "       \n",
    "    return line_img "
   ]
  },
  {
   "cell_type": "code",
   "execution_count": 4,
   "metadata": {
    "collapsed": true
   },
   "outputs": [],
   "source": [
    "\n",
    "def pipeline(image,dim):\n",
    "    \"\"\"\n",
    "    This function accepts two\n",
    "    Arguments:\n",
    "           image = raw image\n",
    "           dim = region of interest coordinates\n",
    "\n",
    "    Returns:\n",
    "           img_weighted = processed image with redlines on the raw image\n",
    "\n",
    "    Description:\n",
    "    This function acts as a main funtion for image processing and forming the\n",
    "    the weighted image.\n",
    "\n",
    "    Raw image shall be converted grayscale and gaussian_blur is applied on it,\n",
    "    the resultant image is passed through canny edge detection to identify the edges.\n",
    "    Out of canny edge detection result image that falls in area of interest is extracted and\n",
    "    passed through HoughLinesP function to identify LaneLines.\n",
    "\n",
    "    Identified Lane lines are used for drawing lines in red color on the original image.\n",
    "    Modified image is returned.\n",
    "    \n",
    "    \"\"\"\n",
    "    # convert the raw image to grayscale and store in img_gray\n",
    "    img_gray=grayscale(image)\n",
    "\n",
    "    # apply gaussian blur on the grayscale image to smoothen the image\n",
    "    img_gray=gaussian_blur(image,5)\n",
    "    \n",
    "    # apply canny on the gaussian blur result to identify the edges\n",
    "    img_gray=canny(img_gray,50,150)\n",
    "   \n",
    "    # remove the image that is outside the region of interest.\n",
    "    img_gray=region_of_interest(img_gray,dim)\n",
    "\n",
    "    # extract the lanelines from the image\n",
    "    lines = cv2.HoughLinesP(img_gray, 1, (np.pi/180), 15, np.array([]), 50, 200)\n",
    "\n",
    "    # draw lines on the gray image by using the lanelines obtained from HoughLinesp\n",
    "    img_gray=draw_lines(img_gray,lines,dim)\n",
    "\n",
    "    # draw lines on the raw image\n",
    "    img_weighted= weighted_img(img_gray,image)\n",
    "    \n",
    "    return img_weighted\n",
    "\n",
    "def process_image(image):\n",
    "    \"\"\"\n",
    "    This function accepts one    \n",
    "    Argument:\n",
    "            image = raw image\n",
    "\n",
    "    returns: \n",
    "            processed_image = processed image with redlines on the raw image\n",
    "\n",
    "    Description:    \n",
    "    In this function varaible to contain the area of interest are defined.\n",
    "\n",
    "    Raw image is passed to pipeline function along with the area of interest\n",
    "    coordinates.\n",
    "\n",
    "    The result of pipeline function is returned\n",
    "    \"\"\"\n",
    "    # Define variables for four corners of the region of interest\n",
    "    left_bottom = [120,537]\n",
    "    left_top= [440,330]\n",
    "    right_bottom = [890,537]\n",
    "    right_top = [520,330]\n",
    "\n",
    "    # create a numpy array 'coordinates'\n",
    "    coordinates = [np.array( [left_bottom,right_bottom,right_top,left_top], dtype=np.int32 )]\n",
    "\n",
    "    # send 'image' and 'coordinates' to pipeline function for identifying the lane lines\n",
    "    # store the result in 'processed_image' variable\n",
    "    processed_image = pipeline(image,coordinates)\n",
    "    \n",
    "    return processed_image"
   ]
  },
  {
   "cell_type": "markdown",
   "metadata": {},
   "source": [
    "## Main Function (Image)\n",
    "Following piece of code read the image and passes the read image  to the main function \"process_image\". Here results of one image are shown rest shall be documented in saperate document"
   ]
  },
  {
   "cell_type": "code",
   "execution_count": 5,
   "metadata": {},
   "outputs": [
    {
     "data": {
      "image/png": "[encoded data removed]",
      "text/plain": [
       "<matplotlib.figure.Figure at 0x7f4de0340908>"
      ]
     },
     "metadata": {},
     "output_type": "display_data"
    }
   ],
   "source": [
    "\"\"\"\n",
    "Read the image to 'image' using imread function. Pass the 'image' to process_image function\n",
    "to identify the lane lines in the image. Show the image returned by the process_image function.\n",
    "\"\"\"\n",
    "image = mpimg.imread('test_images/whiteCarLaneSwitch.jpg')\n",
    "plt.imshow(process_image(image))\n",
    "plt.show()"
   ]
  },
  {
   "cell_type": "markdown",
   "metadata": {},
   "source": [
    "## Lane Detection in video\n",
    "Following code shall identify the lanes in the images."
   ]
  },
  {
   "cell_type": "code",
   "execution_count": 6,
   "metadata": {
    "collapsed": true
   },
   "outputs": [],
   "source": [
    "#import package to read and write the video\n",
    "from moviepy.editor import VideoFileClip\n",
    "from IPython.display import HTML"
   ]
  },
  {
   "cell_type": "markdown",
   "metadata": {
    "collapsed": true
   },
   "source": [
    "## Additional Functions for Lane Detection in Video\n",
    "Besides the above functions a few of the below functions were implemented and a few of the previous functions were modified."
   ]
  },
  {
   "cell_type": "code",
   "execution_count": 7,
   "metadata": {
    "collapsed": true
   },
   "outputs": [],
   "source": [
    "def reject_outliers(data, m=2):\n",
    "    \"\"\"\n",
    "    This function is used for removing any points in 'data' buffer that\n",
    "    deviate a lot from the normal trend. This is done by checking if the distance\n",
    "    between each point and the mean is more than m* standard deviation.\n",
    "\n",
    "    Arguments:\n",
    "    data = input data\n",
    "    m = acceptable number of times of standard deviation the points could deviate from std\n",
    "\n",
    "    Results:\n",
    "    ret_val = array with points with in the standard deviation\n",
    "    \"\"\"\n",
    "    ret_val = []\n",
    "    match = abs(data - np.mean(data)) < m * np.std(data)\n",
    "    for idx in range(len(match)):\n",
    "        if(match[idx]):\n",
    "            ret_val.append(data[idx])\n",
    "    return ret_val\n",
    "\n",
    "def fill_right_lane_buf(lane_xy,out_buf,outbuf_len):\n",
    "    \"\"\"\n",
    "    This function shall recieve start and end coordinates of all the right lines identified\n",
    "    in this frame. These lines shall be passed to reject_outliers function to remove the points\n",
    "    that deviate a lot from the trend. After that a single right line shall be identified and\n",
    "    appened to the output buffer. If the output buffer length increases more than outbuf_len\n",
    "    then the oldest entry shall be removed, basically a queue.\n",
    "\n",
    "    Arguments: \n",
    "    lane_xy = x,y coordinates of all the identified right lines in the current frame\n",
    "    out_buf = buffer containing the right lines identified across multiple frames\n",
    "    outbuf_len = maximum length of the 'out_buf' buffer\n",
    "\n",
    "    Result:\n",
    "    out_buf = with updated coordinates\n",
    "    \"\"\"\n",
    "    #convert the lane_xy list to numpy array\n",
    "    lane_array = np.array(lane_xy)\n",
    "\n",
    "    # Buffers for temporary x, y coordinate storage\n",
    "    x_coord = []\n",
    "    y_coord = []\n",
    "\n",
    "    # enter the if condition only if the 'lane_array' is not empty\n",
    "    if lane_array.shape[0]>0 and lane_array.shape[1]>0:\n",
    "\n",
    "        # remove points that deviate too much from normal trend\n",
    "        x_coord = reject_outliers(lane_array[:,0])\n",
    "        y_coord = reject_outliers(lane_array[:,1])\n",
    "\n",
    "        # check if the resultant buffers are not empty        \n",
    "        if len(x_coord)>0 and len(y_coord)>0:\n",
    "            \n",
    "            # check if out_buf length is more the limit 'outbuf_len' \n",
    "            if len(out_buf)<outbuf_len:\n",
    "                out_buf.append([max(x_coord), max(y_coord),min(x_coord), min(y_coord)])\n",
    "            else:\n",
    "                \n",
    "                # remove the oldest entry to out_buf if the length of out_buf is more than 'outbuf_len'\n",
    "                out_buf.pop(0)\n",
    "                out_buf.append([max(x_coord), max(y_coord),min(x_coord), min(y_coord)])\n",
    "    return out_buf\n",
    "\n",
    "def fill_left_lane_buf(lane_xy,out_buf,outbuf_len):\n",
    "    \"\"\"\n",
    "    This function shall recieve start and end coordinates of all the left lines identified\n",
    "    in this frame. These lines shall be passed to reject_outliers function to remove the points\n",
    "    that deviate a lot from the trend. After that a single left line shall be identified and\n",
    "    appened to the output buffer. If the output buffer length increases more than outbuf_len\n",
    "    then the oldest entry shall be removed, basically a queue.\n",
    "\n",
    "    Arguments: \n",
    "    lane_xy = x,y coordinates of all the identified left lines in the current frame\n",
    "    out_buf = buffer containing the left lines identified across multiple frames\n",
    "    outbuf_len = maximum length of the 'out_buf' buffer\n",
    "\n",
    "    Result:\n",
    "    out_buf = with updated coordinates\n",
    "    \"\"\"\n",
    "    #convert the lane_xy list to numpy array\n",
    "    lane_array = np.array(lane_xy)\n",
    "\n",
    "    # Buffers for temporary x, y coordinate storage\n",
    "    x_coord = []\n",
    "    y_coord = []\n",
    "\n",
    "    # enter the if condition only if the 'lane_array' is not empty\n",
    "    if lane_array.shape[0]>0 and lane_array.shape[1]>0:\n",
    "        \n",
    "        # remove points that deviate too much from normal trend\n",
    "        x_coord = reject_outliers(lane_array[:,0])\n",
    "        y_coord = reject_outliers(lane_array[:,1])\n",
    "\n",
    "        # check if the resultant buffers are not empty\n",
    "        if len(x_coord)>0 and len(y_coord)>0:\n",
    "            # check if out_buf length is more the limit 'outbuf_len' \n",
    "            if len(out_buf)<outbuf_len:\n",
    "                out_buf.append([min(x_coord), max(y_coord),max(x_coord), min(y_coord)])\n",
    "            else:\n",
    "                # remove the oldest entry to out_buf if the length of out_buf is more than 'outbuf_len' \n",
    "                out_buf.pop(0)\n",
    "                out_buf.append([min(x_coord), max(y_coord),max(x_coord), min(y_coord)])\n",
    "    return out_buf\n",
    "\n",
    "def find_line_param(line_xy):\n",
    "    \"\"\"\n",
    "    This function shall calculate slope and constant of the line that fits average\n",
    "    the start and end points across calculated  from multiple frames.\n",
    "\n",
    "    Arguments: line_xy --> array of lines from multiple frames\n",
    "\n",
    "    Result: slope and constant\n",
    "    \"\"\"\n",
    "    # (average(y2)-average(y1))/(average(x2)-average(x1))\n",
    "    slope = (np.int32(np.average(np.array(line_xy)[:,1]))-np.int32(np.average(np.array(line_xy)[:,3])))/\\\n",
    "            (np.int32(np.average(np.array(line_xy)[:,0]))-np.int32(np.average(np.array(line_xy)[:,2])))\n",
    "    # c =  y-mx\n",
    "    constant = np.int32(np.average(np.array(line_xy)[:,1]))- slope* np.int32(np.average(np.array(line_xy)[:,0]))\n",
    "\n",
    "    return slope,constant\n",
    "\n",
    "#Global variables are created  such that lines from multiple frames could be stored    \n",
    "global right_lane \n",
    "global left_lane\n",
    "right_lane =[]\n",
    "left_lane =[]\n",
    "\n",
    "def draw_lines(img, lines, dim, avg_len=300, color=[255, 0, 0], thickness=10):\n",
    "    \"\"\"\n",
    "    This function shall draw lane lines on the gray image by using HoughLinesP output.\n",
    "\n",
    "    If the lines identified in each image are directly plotted then huge oscillations\n",
    "    were observed hence an average filter was implemented. This average filter shall\n",
    "    operate on last 300 frames line coordinates,here only 2 lines per frames are stored.\n",
    "\n",
    "    Using the average filter output a line is fitted by calculating the slope and\n",
    "    constants\n",
    "    \n",
    "    Arguments:\n",
    "    img = grayscale image with only region of interest image\n",
    "    lines = HoughLinesP output\n",
    "    dim = region of interest coordinates\n",
    "    avg_len = decides the number frames data to be considered for averaging\n",
    "    color = color of the line\n",
    "    thickness = thickness of the line\n",
    "    \n",
    "    Result:\n",
    "    line_img = input image + red lane lines    \n",
    "    \"\"\"\n",
    "    # Buffers to hold X,Y coordinates of Right and Left lanes indentified across multiple frames\n",
    "    global right_lane\n",
    "    global left_lane\n",
    "    \n",
    "    # Local Buffers to hold X,Y coordinates of Right and Left lanes \n",
    "    right_xy = []\n",
    "    left_xy = []\n",
    "\n",
    "    # Blank Image for drawing the lines\n",
    "    line_img = np.zeros((img.shape[0], img.shape[1], 3), dtype=np.uint8)\n",
    "\n",
    "    # Pass input lines to 'identify_left_right_lines' to saperate out left and right lines\n",
    "    right_xy,left_xy = identify_left_right_lines(lines)\n",
    "\n",
    "    \"\"\"\n",
    "    'fill_right_lane_buf' function shall identify one rightside lane in the current frame\n",
    "    and store it the in right_lane buffer. For identifying the Right lane following facts are\n",
    "    considered\n",
    "    \n",
    "         Bottom Point: has maximum x value and maximum y value (y axis is 0 on top)\n",
    "         Top Point: has minimum x value and minimum y value (y axis is 0 on top)\n",
    "    \"\"\"\n",
    "    right_lane = fill_right_lane_buf(right_xy,right_lane,avg_len)\n",
    "    \n",
    "    \"\"\"\n",
    "    Right Lane: Find the slope and constant from the saperated line coordinates\n",
    "    and draw the lane\n",
    "    \"\"\"\n",
    "    slope,constant = find_line_param(right_lane)\n",
    "    exp_x1 = np.int32((dim[0][0][1]-constant)/slope)\n",
    "    exp_x2 = np.int32((dim[0][2][1]-constant)/slope)\n",
    "    cv2.line(line_img, (exp_x1, dim[0][0][1]),(exp_x2, dim[0][2][1]), color, thickness)\n",
    "\n",
    "    \"\"\"\n",
    "    'fill_left_lane_buf' function shall identify one leftside lane in the current frame\n",
    "    and store it the in left_lane buffer. For identifying the left lane following facts are\n",
    "    considered\n",
    "    \n",
    "         Bottom Point: has minimum x value and maximum y value (y axis is 0 on top)\n",
    "         Top Point: has maximum x value and min y value (y axis is 0 on top)\n",
    "    \"\"\" \n",
    "    left_lane=fill_left_lane_buf(left_xy,left_lane,avg_len)\n",
    "\n",
    "    \"\"\"\n",
    "    Left Lane: Find the slope and constant from the saperated line coordinates\n",
    "    and draw the lane        \n",
    "    \"\"\"\n",
    "    slope,constant = find_line_param(left_lane)\n",
    "    exp_x1 = np.int32((dim[0][0][1]-constant)/slope)\n",
    "    exp_x2 = np.int32((dim[0][2][1]-constant)/slope)\n",
    "    cv2.line(line_img, (exp_x1, dim[0][0][1]),(exp_x2, dim[0][2][1]),color, thickness)\n",
    "    return line_img    \n"
   ]
  },
  {
   "cell_type": "code",
   "execution_count": 8,
   "metadata": {
    "collapsed": true
   },
   "outputs": [],
   "source": [
    "def pipeline(image,dim):\n",
    "    \"\"\"\n",
    "    This function accepts two\n",
    "    Arguments:\n",
    "           image = raw image\n",
    "           dim = region of interest coordinates\n",
    "\n",
    "    Returns:\n",
    "           img_weighted = processed image with redlines on the raw image\n",
    "\n",
    "    Description:\n",
    "    This function acts as a main funtion for image processing and forming the\n",
    "    the weighted image.\n",
    "\n",
    "    Raw image shall be converted grayscale and gaussian_blur is applied on it,\n",
    "    the resultant image is passed through canny edge detection to identify the edges.\n",
    "    Out of canny edge detection result image that falls in area of interest is extracted and\n",
    "    passed through HoughLinesP function to identify LaneLines.\n",
    "\n",
    "    Identified Lane lines are used for drawing lines in red color on the original image.\n",
    "    Modified image is returned.\n",
    "    \n",
    "    \"\"\"\n",
    "    # convert the raw image to grayscale and store in img_gray\n",
    "    img_gray=grayscale(image)\n",
    "\n",
    "    # apply gaussian blur on the grayscale image to smoothen the image\n",
    "    img_gray=gaussian_blur(img_gray,5)\n",
    "\n",
    "    # apply canny on the gaussian blur result to identify the edges,\n",
    "    # min and max thresholds have changed in comparison to image to enhance the performance\n",
    "    img_gray=canny(img_gray,100,200)\n",
    "\n",
    "    # remove the image that is outside the region of interest.\n",
    "    img_gray=region_of_interest(img_gray,dim)\n",
    "\n",
    "    # extract the lanelines from the image\n",
    "    lines = cv2.HoughLinesP(img_gray, 1, (np.pi/180), 50, np.array([]), 50, 200)\n",
    "\n",
    "    # draw lines on the gray image by using the lanelines obtained from HoughLinesp\n",
    "    img_gray=draw_lines(img_gray,lines,dim)\n",
    "\n",
    "    # draw lines on the raw image\n",
    "    img_weighted= weighted_img(img_gray,image)\n",
    "    return img_weighted\n",
    "\n",
    "def process_image(image):\n",
    "    \"\"\"\n",
    "    This function accepts one    \n",
    "    Argument:\n",
    "            image = raw image\n",
    "\n",
    "    returns: \n",
    "            processed_image = processed image with redlines on the raw image\n",
    "\n",
    "    Description:    \n",
    "    In this function varaible to contain the area of interest are defined.\n",
    "\n",
    "    Raw image is passed to pipeline function along with the area of interest\n",
    "    coordinates.\n",
    "\n",
    "    The result of pipeline function is returned\n",
    "    \"\"\"\n",
    "    # Define variables for four corners of the region of interest\n",
    "    left_bottom = [120,537]\n",
    "    left_top= [440,330]\n",
    "    right_bottom = [890,537]\n",
    "    right_top = [520,330]\n",
    "\n",
    "    # create a numpy array 'coordinates'\n",
    "    coordinates = [np.array( [left_bottom,right_bottom,right_top,left_top], dtype=np.int32 )]\n",
    "\n",
    "    # send 'image' and 'coordinates' to pipeline function for identifying the lane lines\n",
    "    # store the result in 'processed_image' variable\n",
    "    processed_image = pipeline(image,coordinates)\n",
    "    \n",
    "    return processed_image\n"
   ]
  },
  {
   "cell_type": "markdown",
   "metadata": {},
   "source": [
    "## Lane Detection in solidWhiteRight.mp4 file\n",
    "Following code is the starting point for lane identification.\n",
    "Video file is opened and then each frame in the video is processed to identify the lanes."
   ]
  },
  {
   "cell_type": "code",
   "execution_count": 9,
   "metadata": {},
   "outputs": [
    {
     "name": "stdout",
     "output_type": "stream",
     "text": [
      "[MoviePy] >>>> Building video test_videos_output/solidWhiteRight.mp4\n",
      "[MoviePy] Writing audio in solidWhiteRightTEMP_MPY_wvf_snd.mp3\n"
     ]
    },
    {
     "name": "stderr",
     "output_type": "stream",
     "text": [
      "100%|██████████| 195/195 [00:00<00:00, 741.57it/s]"
     ]
    },
    {
     "name": "stdout",
     "output_type": "stream",
     "text": [
      "[MoviePy] Done.\n",
      "[MoviePy] Writing video test_videos_output/solidWhiteRight.mp4\n"
     ]
    },
    {
     "name": "stderr",
     "output_type": "stream",
     "text": [
      "\n",
      "100%|█████████▉| 221/222 [00:13<00:00, 16.75it/s]\n"
     ]
    },
    {
     "name": "stdout",
     "output_type": "stream",
     "text": [
      "[MoviePy] Done.\n",
      "[MoviePy] >>>> Video ready: test_videos_output/solidWhiteRight.mp4 \n",
      "\n",
      "CPU times: user 4.34 s, sys: 352 ms, total: 4.69 s\n",
      "Wall time: 15.5 s\n"
     ]
    }
   ],
   "source": [
    "\"\"\"\n",
    "Open the video file to 'cap' then read the Video frame by frame using fl_image function\n",
    "and pass it to process_image function. Store the resultant processed video in 'modified_clip'\n",
    "variable. Write out the data into a video in the same folder\n",
    "\"\"\"\n",
    "right_lane =[]\n",
    "left_lane =[]\n",
    "cap = VideoFileClip('test_videos/solidWhiteRight.mp4')\n",
    "modified_clip = cap.fl_image( process_image )\n",
    "%time modified_clip.write_videofile(\"test_videos_output/solidWhiteRight.mp4\")"
   ]
  },
  {
   "cell_type": "code",
   "execution_count": 10,
   "metadata": {},
   "outputs": [
    {
     "data": {
      "text/html": [
       "\n",
       "<video width=\"960\" height=\"540\" controls>\n",
       "  <source src=\"test_videos_output/solidWhiteRight.mp4\">\n",
       "</video>\n"
      ],
      "text/plain": [
       "<IPython.core.display.HTML object>"
      ]
     },
     "execution_count": 10,
     "metadata": {},
     "output_type": "execute_result"
    }
   ],
   "source": [
    "HTML(\"\"\"\n",
    "<video width=\"960\" height=\"540\" controls>\n",
    "  <source src=\"{0}\">\n",
    "</video>\n",
    "\"\"\".format(\"test_videos_output/solidWhiteRight.mp4\"))"
   ]
  },
  {
   "cell_type": "markdown",
   "metadata": {},
   "source": [
    "## Lane Detection in solidWhiteRight.mp4 file\n",
    "Following code is the starting point for lane identification.\n",
    "Video file is opened and then each frame in the video is processed to identify the lanes."
   ]
  },
  {
   "cell_type": "code",
   "execution_count": 11,
   "metadata": {},
   "outputs": [
    {
     "name": "stdout",
     "output_type": "stream",
     "text": [
      "[MoviePy] >>>> Building video test_videos_output/solidYellowLeft.mp4\n",
      "[MoviePy] Writing audio in solidYellowLeftTEMP_MPY_wvf_snd.mp3\n"
     ]
    },
    {
     "name": "stderr",
     "output_type": "stream",
     "text": [
      "100%|██████████| 601/601 [00:00<00:00, 989.70it/s] \n"
     ]
    },
    {
     "name": "stdout",
     "output_type": "stream",
     "text": [
      "[MoviePy] Done.\n",
      "[MoviePy] Writing video test_videos_output/solidYellowLeft.mp4\n"
     ]
    },
    {
     "name": "stderr",
     "output_type": "stream",
     "text": [
      "100%|█████████▉| 681/682 [00:43<00:00, 15.79it/s]\n"
     ]
    },
    {
     "name": "stdout",
     "output_type": "stream",
     "text": [
      "[MoviePy] Done.\n",
      "[MoviePy] >>>> Video ready: test_videos_output/solidYellowLeft.mp4 \n",
      "\n",
      "CPU times: user 14.2 s, sys: 1.08 s, total: 15.3 s\n",
      "Wall time: 46.6 s\n"
     ]
    }
   ],
   "source": [
    "\"\"\"\n",
    "Open the video file to 'cap' then read the Video frame by frame using fl_image function\n",
    "and pass it to process_image function. Store the resultant processed video in 'modified_clip'\n",
    "variable. Write out the data into a video in the same folder\n",
    "\"\"\"\n",
    "right_lane =[]\n",
    "left_lane =[]\n",
    "cap = VideoFileClip('test_videos/solidYellowLeft.mp4')\n",
    "modified_clip = cap.fl_image( process_image )\n",
    "%time modified_clip.write_videofile(\"test_videos_output/solidYellowLeft.mp4\")"
   ]
  },
  {
   "cell_type": "code",
   "execution_count": 12,
   "metadata": {},
   "outputs": [
    {
     "data": {
      "text/html": [
       "\n",
       "<video width=\"960\" height=\"540\" controls>\n",
       "  <source src=\"test_videos_output/solidYellowLeft.mp4\">\n",
       "</video>\n"
      ],
      "text/plain": [
       "<IPython.core.display.HTML object>"
      ]
     },
     "execution_count": 12,
     "metadata": {},
     "output_type": "execute_result"
    }
   ],
   "source": [
    "HTML(\"\"\"\n",
    "<video width=\"960\" height=\"540\" controls>\n",
    "  <source src=\"{0}\">\n",
    "</video>\n",
    "\"\"\".format(\"test_videos_output/solidYellowLeft.mp4\"))"
   ]
  },
  {
   "cell_type": "markdown",
   "metadata": {},
   "source": [
    "## Lane Detection in challenge.mp4 file\n",
    "Following code will detect the lanes in challenge.mp4, to do this cannyedge parameters and the region of interest had to be modified."
   ]
  },
  {
   "cell_type": "code",
   "execution_count": 13,
   "metadata": {
    "collapsed": true
   },
   "outputs": [],
   "source": [
    "def pipeline(image,dim):\n",
    "    \"\"\"\n",
    "    This function accepts two\n",
    "    Arguments:\n",
    "           image = raw image\n",
    "           dim = region of interest coordinates\n",
    "\n",
    "    Returns:\n",
    "           img_weighted = processed image with redlines on the raw image\n",
    "\n",
    "    Description:\n",
    "    This function acts as a main funtion for image processing and forming the\n",
    "    the weighted image.\n",
    "\n",
    "    Raw image shall be converted grayscale and gaussian_blur is applied on it,\n",
    "    the resultant image is passed through canny edge detection to identify the edges.\n",
    "    Out of canny edge detection result image that falls in area of interest is extracted and\n",
    "    passed through HoughLinesP function to identify LaneLines.\n",
    "\n",
    "    Identified Lane lines are used for drawing lines in red color on the original image.\n",
    "    Modified image is returned.\n",
    "    \n",
    "    \"\"\"\n",
    "    # convert the raw image to grayscale and store in img_gray\n",
    "    img_gray=grayscale(image)\n",
    "\n",
    "    # apply gaussian blur on the grayscale image to smoothen the image\n",
    "    img_gray=gaussian_blur(img_gray,5)\n",
    "\n",
    "    # apply canny on the gaussian blur result to identify the edges,\n",
    "    # min and max thresholds have changed in comparison to image to enhance the performance\n",
    "    img_gray=canny(img_gray,100,200)\n",
    "\n",
    "    # remove the image that is outside the region of interest.\n",
    "    img_gray=region_of_interest(img_gray,dim)\n",
    "\n",
    "    # extract the lanelines from the image\n",
    "    lines = cv2.HoughLinesP(img_gray, 1, (np.pi/180), 15, np.array([]), 15, 200)\n",
    "\n",
    "    # draw lines on the gray image by using the lanelines obtained from HoughLinesp\n",
    "    img_gray=draw_lines(img_gray,lines,dim)\n",
    "\n",
    "    # draw lines on the raw image\n",
    "    img_weighted= weighted_img(img_gray,image)\n",
    "    return img_weighted\n",
    "\n",
    "def process_image(image):\n",
    "    \"\"\"\n",
    "    This function accepts one    \n",
    "    Argument:\n",
    "            image = raw image\n",
    "\n",
    "    returns: \n",
    "            processed_image = processed image with redlines on the raw image\n",
    "\n",
    "    Description:    \n",
    "    In this function varaible to contain the area of interest are defined.\n",
    "\n",
    "    Raw image is passed to pipeline function along with the area of interest\n",
    "    coordinates.\n",
    "\n",
    "    The result of pipeline function is returned\n",
    "    \"\"\"\n",
    "    # Define variables for four corners of the region of interest\n",
    "   \n",
    "    left_bottom = [175,675]\n",
    "    left_top= [600,450]\n",
    "    right_bottom = [1220,675]\n",
    "    right_top = [725,450]\n",
    "\n",
    "    # create a numpy array 'coordinates'\n",
    "    coordinates = [np.array( [left_bottom,right_bottom,right_top,left_top], dtype=np.int32 )]\n",
    "\n",
    "    # send 'image' and 'coordinates' to pipeline function for identifying the lane lines\n",
    "    # store the result in 'processed_image' variable\n",
    "    processed_image = pipeline(image,coordinates)\n",
    "    \n",
    "    return processed_image\n"
   ]
  },
  {
   "cell_type": "code",
   "execution_count": 14,
   "metadata": {},
   "outputs": [
    {
     "name": "stdout",
     "output_type": "stream",
     "text": [
      "[MoviePy] >>>> Building video test_videos_output/challenge.mp4\n",
      "[MoviePy] Writing audio in challengeTEMP_MPY_wvf_snd.mp3\n"
     ]
    },
    {
     "name": "stderr",
     "output_type": "stream",
     "text": [
      "100%|██████████| 222/222 [00:00<00:00, 1196.93it/s]"
     ]
    },
    {
     "name": "stdout",
     "output_type": "stream",
     "text": [
      "[MoviePy] Done.\n",
      "[MoviePy] Writing video test_videos_output/challenge.mp4\n"
     ]
    },
    {
     "name": "stderr",
     "output_type": "stream",
     "text": [
      "\n",
      "100%|██████████| 251/251 [00:31<00:00,  7.91it/s]\n"
     ]
    },
    {
     "name": "stdout",
     "output_type": "stream",
     "text": [
      "[MoviePy] Done.\n",
      "[MoviePy] >>>> Video ready: test_videos_output/challenge.mp4 \n",
      "\n",
      "CPU times: user 8.27 s, sys: 1.38 s, total: 9.64 s\n",
      "Wall time: 36.9 s\n"
     ]
    }
   ],
   "source": [
    "\"\"\"\n",
    "Open the video file to 'cap' then read the Video frame by frame using fl_image function\n",
    "and pass it to process_image function. Store the resultant processed video in 'modified_clip'\n",
    "variable. Write out the data into a video in the same folder\n",
    "\"\"\"\n",
    "right_lane =[]\n",
    "left_lane =[]\n",
    "cap = VideoFileClip('test_videos/challenge.mp4')\n",
    "modified_clip = cap.fl_image( process_image )\n",
    "%time modified_clip.write_videofile(\"test_videos_output/challenge.mp4\")"
   ]
  },
  {
   "cell_type": "code",
   "execution_count": 15,
   "metadata": {},
   "outputs": [
    {
     "data": {
      "text/html": [
       "\n",
       "<video width=\"960\" height=\"540\" controls>\n",
       "  <source src=\"test_videos_output/challenge.mp4\">\n",
       "</video>\n"
      ],
      "text/plain": [
       "<IPython.core.display.HTML object>"
      ]
     },
     "execution_count": 15,
     "metadata": {},
     "output_type": "execute_result"
    }
   ],
   "source": [
    "HTML(\"\"\"\n",
    "<video width=\"960\" height=\"540\" controls>\n",
    "  <source src=\"{0}\">\n",
    "</video>\n",
    "\"\"\".format(\"test_videos_output/challenge.mp4\"))"
   ]
  }
 ],
 "metadata": {
  "kernelspec": {
   "display_name": "Python [conda env:my_conda]",
   "language": "python",
   "name": "conda-env-my_conda-py"
  },
  "language_info": {
   "codemirror_mode": {
    "name": "ipython",
    "version": 3
   },
   "file_extension": ".py",
   "mimetype": "text/x-python",
   "name": "python",
   "nbconvert_exporter": "python",
   "pygments_lexer": "ipython3",
   "version": "3.6.2"
  }
 },
 "nbformat": 4,
 "nbformat_minor": 2
}
